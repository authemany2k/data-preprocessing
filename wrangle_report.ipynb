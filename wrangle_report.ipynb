{
 "cells": [
  {
   "cell_type": "markdown",
   "metadata": {},
   "source": [
    "## Reporting: wragle_report"
   ]
  },
  {
   "cell_type": "markdown",
   "metadata": {},
   "source": [
    "## wrangle report by Olugbenga Felix Ajiga\n",
    "\n",
    "I began by collecting data from different sources like flat file containing WeRateDogs archived tweets. \n",
    "Also using twitter API to gather tweets from twitter real time but I got some challeges as regards this so I wont use the API. \n",
    "At the end these three processes were performed with WeRateDogs\n",
    "\n",
    "1. Data gathering;\n",
    "2. Data assessment;\n",
    "3. Data cleaning. "
   ]
  },
  {
   "cell_type": "markdown",
   "metadata": {},
   "source": [
    "## Quality issues:"
   ]
  },
  {
   "cell_type": "raw",
   "metadata": {},
   "source": [
    "IN predictions_df: the prediction number needs to have data type integer\n",
    "One row has total confidence greater than 1 which is not normal\n",
    "The values in p1, p2, and p3 should be properly named\n",
    "Change 'None' to empty cell in doggo,floofer, pupper, puppo then delete\n",
    "There are duplicated jpg_url\n",
    "\n",
    "IN twitter_archive_df: some tweets in archive have missing data for retweet_count or favorite_count\n",
    "alot of 0 in the favorite_count\n",
    "IN twitter_archive_df: the dog_stage columns (doggo, floofer, pupper, and puppo) should have a categorical data type\n",
    "using data type float for rating so that the column can be uniform\n",
    "All dogs should have a name with proper letter casing\n",
    "dropping timestamp column not needed"
   ]
  },
  {
   "cell_type": "markdown",
   "metadata": {},
   "source": [
    "## Tidiness issues\n"
   ]
  },
  {
   "cell_type": "raw",
   "metadata": {},
   "source": [
    "IN predictions_df table\n",
    "For predictions_df: columns [ prediction 1, prediction 2, and prediction 3] are untidy\n",
    "    \n",
    "twitter_archive_df: stage columns [doggo, floofer, pupper, and puppo] are untidy\n",
    "jpg_url variable should be in twitter_archive_df table to satisfy tidiness definition\n",
    "twitter_archive_df and predictions_df tables form two different obseravations units and will be kept seperately\n",
    "\n",
    "IN twitter_archive_df table:\n",
    "doggo, floofer, pupper and puppo will be merged into one column\n",
    "tables twitter_archive_df and tweet_in_json_df will be under one observational unit\n",
    "There should have been a dataframe for each of these observational units [tweet data, dog data, and image predictions]"
   ]
  },
  {
   "cell_type": "markdown",
   "metadata": {},
   "source": [
    "## Assessment process\n",
    "Tidiness issues are predictions_df: columns [ prediction 1, prediction 2, and prediction 3] are untidy\n",
    "twitter_archive_df: stage columns [doggo, floofer, pupper, and puppo] are untidy\n",
    "There should have been a data frame for each of these observational units [tweet data, dog data, and image predictions]\n",
    "\n",
    "Quality Assessment:\n",
    "predictions_df: the prediction number was changed to integer data type\n",
    "The values in p1, p2, and p3 were properly named\n",
    "'None'in the names were changed to an empty cell in doggo,floofer, pupper, puppo then delete\n",
    "There are duplicated jpg_url\n",
    "used data float data type for rating so that the column can be uniform\n",
    "All dogs names were properly named with the right alphabet casing "
   ]
  },
  {
   "cell_type": "markdown",
   "metadata": {},
   "source": [
    "## The cleaning process\n",
    "\n",
    "Cleaning was performed to take care of the following:\n",
    "removing retweets and duplicate values in jpg_url column.\n",
    "removing duplicate values in jpg_url column\n",
    "Removing pictures that are not of dogs when at least one value of p1_dog, p2_dog, and p3_dog is true with confidence greater than 1.\n",
    "Remove any invalid names and text related to lowercase names that do not have the phrase \"We only rate dogs\"\n",
    "timestamp column was deleted\n",
    "\n",
    "IN predictions_df: the prediction number was changed integer\n",
    "One row has total confidence greater than 1 which is not normal\n",
    "The values in p1, p2, and p3 was properly named\n",
    "Change 'None' to empty cell in doggo,floofer, pupper, puppo then delete\n",
    "\n",
    "IN twitter_archive_df: some tweets in archive have missing data for retweet_count or favorite_count\n",
    "alot of 0 in the favorite_count so retweet_count and favorite_count was removed from the datafame.\n",
    "\n",
    "rating number column was converted to float so that the column can be uniform\n",
    "All dog names were converted to proper letter casing\n",
    "dropping timestamp column because it was not needed"
   ]
  },
  {
   "cell_type": "markdown",
   "metadata": {},
   "source": [
    "## My take home on the project\n",
    "By the time I was done with the wrangling process, I can say I now have the confident to perform the same process in real life. Thank you Udacity and mastschool for your guidance and support.\n",
    "I must confess this project is really very challenging. I spent hours trying to figure out a lot of things but at the end it was really worth it."
   ]
  }
 ],
 "metadata": {
  "kernelspec": {
   "display_name": "Python 3 (ipykernel)",
   "language": "python",
   "name": "python3"
  },
  "language_info": {
   "codemirror_mode": {
    "name": "ipython",
    "version": 3
   },
   "file_extension": ".py",
   "mimetype": "text/x-python",
   "name": "python",
   "nbconvert_exporter": "python",
   "pygments_lexer": "ipython3",
   "version": "3.9.13"
  }
 },
 "nbformat": 4,
 "nbformat_minor": 4
}
