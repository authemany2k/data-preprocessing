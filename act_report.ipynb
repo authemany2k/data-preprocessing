{
 "cells": [
  {
   "cell_type": "markdown",
   "metadata": {},
   "source": [
    "## Report: act_report\n"
   ]
  },
  {
   "cell_type": "raw",
   "metadata": {},
   "source": [
    "My initial or prelimary work was to gather data from different sources which includes flat file containing WeRateDogs archived tweets. \n",
    "Download file programmatically from Udacity server and using twitter API to gather tweets from twitter real time.\n",
    "Other resources from Udacity and from internet for supports."
   ]
  },
  {
   "cell_type": "markdown",
   "metadata": {},
   "source": [
    "TIDINESS ASSESSMENT:\n",
    "For predictions_df: columns [ prediction 1, prediction 2, and prediction 3] are untidy\n",
    "twitter_archive_df: stage columns [doggo, floofer, pupper, and puppo] are untidy\n",
    "IN predictions_df table\n",
    "jpg_url variable should be in twitter_archive_df table to satisfy tidiness definition\n",
    "twitter_archive_df and predictions_df tables form two different obseravations units and will be kept seperately\n",
    "IN twitter_archive_df table:\n",
    "doggo, floofer, pupper and puppo will be merged into one column\n",
    "tables twitter_archive_df and tweet_in_json_df will be under one observational unit\n",
    "There should have been a dataframe for each of these observational units [tweet data, dog data, and image predictions]\n",
    "\n",
    "QUALITY ASSESSMENT:\n",
    "IN predictions_df: the prediction number needs to have data type integer\n",
    "One row has total confidence greater than 1 which is not normal\n",
    "The values in p1, p2, and p3 should be properly named\n",
    "Change 'None' to empty cell in doggo,floofer, pupper, puppo then delete\n",
    "There are duplicated jpg_url\n",
    "IN twitter_archive_df: some tweets in archive have missing data for retweet_count or favorite_count\n",
    "alot of 0 in the favorite_count\n",
    "IN twitter_archive_df: the dog_stage columns (doggo, floofer, pupper, and puppo) should have a categorical data type\n",
    "using data type float for rating so that the column can be uniform\n",
    "All dogs should have a name with proper letter casing\n",
    "dropping timestamp column not needed"
   ]
  },
  {
   "cell_type": "raw",
   "metadata": {},
   "source": [
    "Cleaning was performed to take care of the following:\n",
    "removing retweets and duplicate values in jpg_url column.\n",
    "removing duplicate values in jpg_url column\n",
    "Removing pictures that are not of dogs when at least one value of p1_dog, p2_dog, and p3_dog is true with confidence greater than 1.\n",
    "Remove any invalid names and text related to lowercase names that do not have the phrase \"We only rate dogs\"\n",
    "timestamp column was deleted\n",
    "\n",
    "IN predictions_df: the prediction number was changed integer\n",
    "One row has total confidence greater than 1 which is not normal\n",
    "The values in p1, p2, and p3 was properly named\n",
    "Change 'None' to empty cell in doggo,floofer, pupper, puppo then delete\n",
    "\n",
    "IN twitter_archive_df: some tweets in archive have missing data for retweet_count or favorite_count\n",
    "alot of 0 in the favorite_count so retweet_count and favorite_count was removed from the datafame.\n",
    "\n",
    "rating number column was converted to float so that the column can be uniform\n",
    "All dog names were converted to proper letter casing\n",
    "dropping timestamp column because it was not needed\n"
   ]
  },
  {
   "cell_type": "markdown",
   "metadata": {},
   "source": [
    "It was obvious a lot of names are in between 5 and 15 in their Numerator rating as shown below \n",
    "Because of the able we can see that the rating numerator histogram is skewed to the left. \n",
    "\n",
    "![numerator](visualizations/rating_num.png)"
   ]
  },
  {
   "cell_type": "markdown",
   "metadata": {},
   "source": [
    "By defining confidence interval mean of 95% accuracy.\n",
    "I can confidently say the mean value of the rating_numerator is inbetween 10.09, 10.75. \n",
    "\n",
    "![numerator](visualizations/CIM.png)"
   ]
  },
  {
   "cell_type": "markdown",
   "metadata": {},
   "source": [
    "And finally, the clean data set was saved as twitter_archive_clean_master.csv"
   ]
  }
 ],
 "metadata": {
  "kernelspec": {
   "display_name": "Python 3 (ipykernel)",
   "language": "python",
   "name": "python3"
  },
  "language_info": {
   "codemirror_mode": {
    "name": "ipython",
    "version": 3
   },
   "file_extension": ".py",
   "mimetype": "text/x-python",
   "name": "python",
   "nbconvert_exporter": "python",
   "pygments_lexer": "ipython3",
   "version": "3.9.13"
  }
 },
 "nbformat": 4,
 "nbformat_minor": 4
}
